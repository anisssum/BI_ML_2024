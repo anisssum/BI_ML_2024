{
 "cells": [
  {
   "cell_type": "code",
   "execution_count": 55,
   "id": "b084d51a-694e-4cc8-99cb-f2e8cc62269d",
   "metadata": {},
   "outputs": [],
   "source": [
    "import pandas as pd\n",
    "from sklearn.tree import DecisionTreeClassifier\n",
    "from sklearn.model_selection import train_test_split\n",
    "from sklearn.metrics import accuracy_score, precision_score, recall_score, f1_score\n",
    "\n",
    "import matplotlib.pyplot as plt\n",
    "import numpy as np\n",
    "from sklearn.model_selection import GridSearchCV\n",
    "from sklearn.preprocessing import StandardScaler\n",
    "from sklearn.linear_model import LogisticRegression"
   ]
  },
  {
   "cell_type": "markdown",
   "id": "ab8e95f5-5349-423d-8c28-e80f50a61ce2",
   "metadata": {},
   "source": [
    "Будем учиться классифицировать жанры музыки, полузуюсь не аудио дорожками, а уже осмысленными признаками (правда, не все из них имеют понятные названия). Сами данные можно найти [здесь](https://www.kaggle.com/purumalgi/music-genre-classification). Будем использовать файл `train.csv`. Нашей задачей будет предсказание переменной `Class` (жанр песни) при помощи деревьев решений. Можно попробовать также другие методы классификации, которые мы прошли, и сравнить результаты. При обучении всех моделей не забывайте про разделение на тренировку и тест (или кросс валидацию [ссылка](https://www.youtube.com/watch?v=fSytzGwwBVw))."
   ]
  },
  {
   "cell_type": "markdown",
   "id": "04e0c9f5-2043-4ed7-92e4-e53677b60df8",
   "metadata": {},
   "source": [
    "### Задание 1. EDA (10 баллов)\n",
    "\n",
    "Как обычно, начнем с того, что посмотрим на наши данные: типы переменных, пропущенные значения, баланс классов и все такое. Ваш ход:"
   ]
  },
  {
   "cell_type": "code",
   "execution_count": 5,
   "id": "1ab19c5c-4a2b-4388-8063-ec56e415408a",
   "metadata": {},
   "outputs": [
    {
     "data": {
      "text/html": [
       "<div>\n",
       "<style scoped>\n",
       "    .dataframe tbody tr th:only-of-type {\n",
       "        vertical-align: middle;\n",
       "    }\n",
       "\n",
       "    .dataframe tbody tr th {\n",
       "        vertical-align: top;\n",
       "    }\n",
       "\n",
       "    .dataframe thead th {\n",
       "        text-align: right;\n",
       "    }\n",
       "</style>\n",
       "<table border=\"1\" class=\"dataframe\">\n",
       "  <thead>\n",
       "    <tr style=\"text-align: right;\">\n",
       "      <th></th>\n",
       "      <th>Artist Name</th>\n",
       "      <th>Track Name</th>\n",
       "      <th>Popularity</th>\n",
       "      <th>danceability</th>\n",
       "      <th>energy</th>\n",
       "      <th>key</th>\n",
       "      <th>loudness</th>\n",
       "      <th>mode</th>\n",
       "      <th>speechiness</th>\n",
       "      <th>acousticness</th>\n",
       "      <th>instrumentalness</th>\n",
       "      <th>liveness</th>\n",
       "      <th>valence</th>\n",
       "      <th>tempo</th>\n",
       "      <th>duration_in min/ms</th>\n",
       "      <th>time_signature</th>\n",
       "      <th>Class</th>\n",
       "    </tr>\n",
       "  </thead>\n",
       "  <tbody>\n",
       "    <tr>\n",
       "      <th>0</th>\n",
       "      <td>Bruno Mars</td>\n",
       "      <td>That's What I Like (feat. Gucci Mane)</td>\n",
       "      <td>60.0</td>\n",
       "      <td>0.854</td>\n",
       "      <td>0.564</td>\n",
       "      <td>1.0</td>\n",
       "      <td>-4.964</td>\n",
       "      <td>1</td>\n",
       "      <td>0.0485</td>\n",
       "      <td>0.017100</td>\n",
       "      <td>NaN</td>\n",
       "      <td>0.0849</td>\n",
       "      <td>0.8990</td>\n",
       "      <td>134.071</td>\n",
       "      <td>234596.0</td>\n",
       "      <td>4</td>\n",
       "      <td>5</td>\n",
       "    </tr>\n",
       "    <tr>\n",
       "      <th>1</th>\n",
       "      <td>Boston</td>\n",
       "      <td>Hitch a Ride</td>\n",
       "      <td>54.0</td>\n",
       "      <td>0.382</td>\n",
       "      <td>0.814</td>\n",
       "      <td>3.0</td>\n",
       "      <td>-7.230</td>\n",
       "      <td>1</td>\n",
       "      <td>0.0406</td>\n",
       "      <td>0.001100</td>\n",
       "      <td>0.004010</td>\n",
       "      <td>0.1010</td>\n",
       "      <td>0.5690</td>\n",
       "      <td>116.454</td>\n",
       "      <td>251733.0</td>\n",
       "      <td>4</td>\n",
       "      <td>10</td>\n",
       "    </tr>\n",
       "    <tr>\n",
       "      <th>2</th>\n",
       "      <td>The Raincoats</td>\n",
       "      <td>No Side to Fall In</td>\n",
       "      <td>35.0</td>\n",
       "      <td>0.434</td>\n",
       "      <td>0.614</td>\n",
       "      <td>6.0</td>\n",
       "      <td>-8.334</td>\n",
       "      <td>1</td>\n",
       "      <td>0.0525</td>\n",
       "      <td>0.486000</td>\n",
       "      <td>0.000196</td>\n",
       "      <td>0.3940</td>\n",
       "      <td>0.7870</td>\n",
       "      <td>147.681</td>\n",
       "      <td>109667.0</td>\n",
       "      <td>4</td>\n",
       "      <td>6</td>\n",
       "    </tr>\n",
       "    <tr>\n",
       "      <th>3</th>\n",
       "      <td>Deno</td>\n",
       "      <td>Lingo (feat. J.I &amp; Chunkz)</td>\n",
       "      <td>66.0</td>\n",
       "      <td>0.853</td>\n",
       "      <td>0.597</td>\n",
       "      <td>10.0</td>\n",
       "      <td>-6.528</td>\n",
       "      <td>0</td>\n",
       "      <td>0.0555</td>\n",
       "      <td>0.021200</td>\n",
       "      <td>NaN</td>\n",
       "      <td>0.1220</td>\n",
       "      <td>0.5690</td>\n",
       "      <td>107.033</td>\n",
       "      <td>173968.0</td>\n",
       "      <td>4</td>\n",
       "      <td>5</td>\n",
       "    </tr>\n",
       "    <tr>\n",
       "      <th>4</th>\n",
       "      <td>Red Hot Chili Peppers</td>\n",
       "      <td>Nobody Weird Like Me - Remastered</td>\n",
       "      <td>53.0</td>\n",
       "      <td>0.167</td>\n",
       "      <td>0.975</td>\n",
       "      <td>2.0</td>\n",
       "      <td>-4.279</td>\n",
       "      <td>1</td>\n",
       "      <td>0.2160</td>\n",
       "      <td>0.000169</td>\n",
       "      <td>0.016100</td>\n",
       "      <td>0.1720</td>\n",
       "      <td>0.0918</td>\n",
       "      <td>199.060</td>\n",
       "      <td>229960.0</td>\n",
       "      <td>4</td>\n",
       "      <td>10</td>\n",
       "    </tr>\n",
       "  </tbody>\n",
       "</table>\n",
       "</div>"
      ],
      "text/plain": [
       "             Artist Name                             Track Name  Popularity  \\\n",
       "0             Bruno Mars  That's What I Like (feat. Gucci Mane)        60.0   \n",
       "1                 Boston                           Hitch a Ride        54.0   \n",
       "2          The Raincoats                     No Side to Fall In        35.0   \n",
       "3                   Deno             Lingo (feat. J.I & Chunkz)        66.0   \n",
       "4  Red Hot Chili Peppers      Nobody Weird Like Me - Remastered        53.0   \n",
       "\n",
       "   danceability  energy   key  loudness  mode  speechiness  acousticness  \\\n",
       "0         0.854   0.564   1.0    -4.964     1       0.0485      0.017100   \n",
       "1         0.382   0.814   3.0    -7.230     1       0.0406      0.001100   \n",
       "2         0.434   0.614   6.0    -8.334     1       0.0525      0.486000   \n",
       "3         0.853   0.597  10.0    -6.528     0       0.0555      0.021200   \n",
       "4         0.167   0.975   2.0    -4.279     1       0.2160      0.000169   \n",
       "\n",
       "   instrumentalness  liveness  valence    tempo  duration_in min/ms  \\\n",
       "0               NaN    0.0849   0.8990  134.071            234596.0   \n",
       "1          0.004010    0.1010   0.5690  116.454            251733.0   \n",
       "2          0.000196    0.3940   0.7870  147.681            109667.0   \n",
       "3               NaN    0.1220   0.5690  107.033            173968.0   \n",
       "4          0.016100    0.1720   0.0918  199.060            229960.0   \n",
       "\n",
       "   time_signature  Class  \n",
       "0               4      5  \n",
       "1               4     10  \n",
       "2               4      6  \n",
       "3               4      5  \n",
       "4               4     10  "
      ]
     },
     "execution_count": 5,
     "metadata": {},
     "output_type": "execute_result"
    }
   ],
   "source": [
    "data = pd.read_csv(\"train.csv\")\n",
    "data.head()"
   ]
  },
  {
   "cell_type": "code",
   "execution_count": 23,
   "id": "d19b38c0-2bbd-476d-8ec8-c244fb8b2a78",
   "metadata": {},
   "outputs": [
    {
     "name": "stdout",
     "output_type": "stream",
     "text": [
      "Info:\n",
      "<class 'pandas.core.frame.DataFrame'>\n",
      "RangeIndex: 17996 entries, 0 to 17995\n",
      "Data columns (total 17 columns):\n",
      " #   Column              Non-Null Count  Dtype  \n",
      "---  ------              --------------  -----  \n",
      " 0   Artist Name         17996 non-null  object \n",
      " 1   Track Name          17996 non-null  object \n",
      " 2   Popularity          17568 non-null  float64\n",
      " 3   danceability        17996 non-null  float64\n",
      " 4   energy              17996 non-null  float64\n",
      " 5   key                 15982 non-null  float64\n",
      " 6   loudness            17996 non-null  float64\n",
      " 7   mode                17996 non-null  int64  \n",
      " 8   speechiness         17996 non-null  float64\n",
      " 9   acousticness        17996 non-null  float64\n",
      " 10  instrumentalness    13619 non-null  float64\n",
      " 11  liveness            17996 non-null  float64\n",
      " 12  valence             17996 non-null  float64\n",
      " 13  tempo               17996 non-null  float64\n",
      " 14  duration_in min/ms  17996 non-null  float64\n",
      " 15  time_signature      17996 non-null  int64  \n",
      " 16  Class               17996 non-null  int64  \n",
      "dtypes: float64(12), int64(3), object(2)\n",
      "memory usage: 2.3+ MB\n",
      "None \n",
      "\n",
      "\n",
      "Statistical characteristics of the numerical features:\n",
      "          Popularity  danceability        energy           key      loudness  \\\n",
      "count  17568.000000  17996.000000  17996.000000  15982.000000  17996.000000   \n",
      "mean      44.512124      0.543433      0.662777      5.952447     -7.910660   \n",
      "std       17.426928      0.166268      0.235373      3.196854      4.049151   \n",
      "min        1.000000      0.059600      0.000020      1.000000    -39.952000   \n",
      "25%       33.000000      0.432000      0.509000      3.000000     -9.538000   \n",
      "50%       44.000000      0.545000      0.700000      6.000000     -7.016000   \n",
      "75%       56.000000      0.659000      0.860000      9.000000     -5.189000   \n",
      "max      100.000000      0.989000      1.000000     11.000000      1.355000   \n",
      "\n",
      "               mode   speechiness  acousticness  instrumentalness  \\\n",
      "count  17996.000000  17996.000000  17996.000000      13619.000000   \n",
      "mean       0.636753      0.079707      0.247082          0.177562   \n",
      "std        0.480949      0.083576      0.310632          0.304048   \n",
      "min        0.000000      0.022500      0.000000          0.000001   \n",
      "25%        0.000000      0.034800      0.004300          0.000089   \n",
      "50%        1.000000      0.047400      0.081400          0.003910   \n",
      "75%        1.000000      0.083000      0.434000          0.200000   \n",
      "max        1.000000      0.955000      0.996000          0.996000   \n",
      "\n",
      "           liveness       valence         tempo  duration_in min/ms  \\\n",
      "count  17996.000000  17996.000000  17996.000000        1.799600e+04   \n",
      "mean       0.196170      0.486208    122.623294        2.007445e+05   \n",
      "std        0.159212      0.240195     29.571527        1.119891e+05   \n",
      "min        0.011900      0.018300     30.557000        5.016500e-01   \n",
      "25%        0.097500      0.297000     99.620750        1.663370e+05   \n",
      "50%        0.129000      0.481000    120.065500        2.091600e+05   \n",
      "75%        0.258000      0.672000    141.969250        2.524900e+05   \n",
      "max        1.000000      0.986000    217.416000        1.477187e+06   \n",
      "\n",
      "       time_signature         Class  \n",
      "count    17996.000000  17996.000000  \n",
      "mean         3.924039      6.695821  \n",
      "std          0.361618      3.206073  \n",
      "min          1.000000      0.000000  \n",
      "25%          4.000000      5.000000  \n",
      "50%          4.000000      8.000000  \n",
      "75%          4.000000     10.000000  \n",
      "max          5.000000     10.000000   \n",
      "\n",
      "\n",
      "Column with missing value:\n",
      " {'Popularity': 428, 'key': 2014, 'instrumentalness': 4377}\n"
     ]
    }
   ],
   "source": [
    "print(\"Info:\")\n",
    "print(data.info(), \"\\n\\n\")\n",
    "print(\"Statistical characteristics of the numerical features:\\n\", data.describe(), \"\\n\\n\")\n",
    "def count_missing_values(df):\n",
    "    missing_values = {}\n",
    "    for column in df.columns:\n",
    "        count = df[column].isnull().sum()\n",
    "        if count > 0:\n",
    "            missing_values[column] = count\n",
    "    return missing_values\n",
    "\n",
    "result = count_missing_values(data)\n",
    "print(\"Column with missing value:\\n\", result)"
   ]
  },
  {
   "cell_type": "markdown",
   "id": "25cf90a9-080a-40bc-baf7-ce1b367e056a",
   "metadata": {},
   "source": [
    "Так как данных достаточно (18к), а возможные методы импутации неочень подходят для данного датасета, лучше будет удалить все строки с пропущеными значениями."
   ]
  },
  {
   "cell_type": "code",
   "execution_count": 29,
   "id": "fcbabd2a-1f08-490b-b54c-109237486072",
   "metadata": {},
   "outputs": [
    {
     "name": "stdout",
     "output_type": "stream",
     "text": [
      "(11813, 17)\n"
     ]
    }
   ],
   "source": [
    "data = data.dropna()\n",
    "print(data.shape)"
   ]
  },
  {
   "cell_type": "code",
   "execution_count": 37,
   "id": "c65c64fd-ecb7-4a8a-b2c4-70135bf1d7bb",
   "metadata": {},
   "outputs": [
    {
     "name": "stdout",
     "output_type": "stream",
     "text": [
      "mode\n",
      "1    7371\n",
      "0    4442\n",
      "Name: count, dtype: int64 \n",
      "\n",
      "\n",
      "time_signature\n",
      "4    10717\n",
      "3      879\n",
      "5      128\n",
      "1       89\n",
      "Name: count, dtype: int64 \n",
      "\n",
      "\n",
      "Class\n",
      "10    3374\n",
      "6     2039\n",
      "8     1523\n",
      "9     1099\n",
      "1     1037\n",
      "2      956\n",
      "5      517\n",
      "7      464\n",
      "0      386\n",
      "3      270\n",
      "4      148\n",
      "Name: count, dtype: int64 \n",
      "\n",
      "\n"
     ]
    }
   ],
   "source": [
    "data['mode']= data['mode'].astype('category')\n",
    "data['time_signature']= data.time_signature.astype('category')\n",
    "data['Class']= data.Class.astype('category')\n",
    "print(data['mode'].value_counts(), \"\\n\\n\")\n",
    "print(data['time_signature'].value_counts(), \"\\n\\n\")\n",
    "print(data['Class'].value_counts(), \"\\n\\n\")"
   ]
  },
  {
   "cell_type": "markdown",
   "id": "57d57a08-f6c9-4458-b550-caf169eca830",
   "metadata": {},
   "source": [
    "Для дерева решений можно не балансировать классы"
   ]
  },
  {
   "cell_type": "markdown",
   "id": "d7dfab66-247d-423e-a4f9-5891ce11627b",
   "metadata": {},
   "source": [
    "### Задание 2. Обучение дерева решений (10 баллов)\n",
    "\n",
    "Предобработайте признаки так, чтобы их можно было подать в модель дерева решений и обучите ее, постарайтесь подобрать оптимальные гиперпараметры, которые вам известны. Постарайтесь также обосновать выбор метрики в данном случае. При подборе гиперпараметров может помочь `GridSearchCV` [ссылка](https://scikit-learn.org/stable/modules/generated/sklearn.model_selection.GridSearchCV.html)."
   ]
  },
  {
   "cell_type": "code",
   "execution_count": 43,
   "id": "f69d6a02-fac9-48ec-9ae8-1613f27283d5",
   "metadata": {},
   "outputs": [],
   "source": [
    "X = data.drop(columns=['Class', 'Track Name', 'Artist Name'])\n",
    "y = data['Class']\n",
    "X_train, X_test, y_train, y_test = train_test_split(X, y, test_size=0.3, random_state=42)\n",
    "scaler = StandardScaler()\n",
    "X_train_scaled = scaler.fit_transform(X_train)\n",
    "X_test_scaled = scaler.transform(X_test)"
   ]
  },
  {
   "cell_type": "code",
   "execution_count": 53,
   "id": "926106d8-b39c-4f71-bc2c-5b56fb4d074f",
   "metadata": {},
   "outputs": [
    {
     "name": "stdout",
     "output_type": "stream",
     "text": [
      "Best parameters: {'max_depth': 7, 'min_samples_leaf': 2, 'min_samples_split': 2}\n",
      "Accuracy: 0.4461060948081264\n",
      "F1: 0.46660270800416365\n",
      "Precision: 0.5049354318782091\n",
      "Recall: 0.461047051378027\n"
     ]
    }
   ],
   "source": [
    "model = DecisionTreeClassifier()\n",
    "\n",
    "param_grid = {\n",
    "    'max_depth': [3, 5, 7, 10],\n",
    "    'min_samples_split': [2, 5, 10],\n",
    "    'min_samples_leaf': [1, 2, 4]\n",
    "}\n",
    "\n",
    "grid_search = GridSearchCV(model, param_grid, cv=5)\n",
    "grid_search.fit(X_train_scaled, y_train)\n",
    "\n",
    "print(\"Best parameters:\", grid_search.best_params_)\n",
    "\n",
    "best_model = grid_search.best_estimator_\n",
    "best_model.fit(X_train_scaled, y_train)\n",
    "\n",
    "y_pred = best_model.predict(X_test_scaled)\n",
    "\n",
    "print(\"Accuracy:\", accuracy_score(y_test, y_pred))\n",
    "print(\"F1:\", f1_score(y_test, y_pred, average='macro'))\n",
    "print(\"Precision:\", precision_score(y_test, y_pred, average='macro'))\n",
    "print(\"Recall:\", recall_score(y_test, y_pred, average='macro'))"
   ]
  },
  {
   "cell_type": "markdown",
   "id": "d97ca259-c3a2-43ea-a078-0598a57b1e77",
   "metadata": {},
   "source": [
    "Для несбалансированных классов лучше опираться на F1, Precision, Recall"
   ]
  },
  {
   "cell_type": "markdown",
   "id": "11c54184-da20-4f53-9d5f-575e2cad3a4d",
   "metadata": {},
   "source": [
    "### Задание 3. Другие модели (без баллов, просто если есть желание)\n",
    "\n",
    "Проделайте операции из **Задания 2** с другими известными вам классификаторами. Стало ли лучше?"
   ]
  },
  {
   "cell_type": "code",
   "execution_count": 57,
   "id": "eb381e31-ecb5-47aa-8eb0-1fed6e248c61",
   "metadata": {},
   "outputs": [
    {
     "name": "stdout",
     "output_type": "stream",
     "text": [
      "Accuracy: 0.46698645598194133\n",
      "F1: 0.4838996546979871\n",
      "Recall: 0.49346398021779714\n"
     ]
    }
   ],
   "source": [
    "log_reg = LogisticRegression()\n",
    "log_reg.fit(X_train_scaled, y_train)\n",
    "y_pred = log_reg.predict(X_test_scaled)\n",
    "\n",
    "print(\"Accuracy:\", accuracy_score(y_test, y_pred))\n",
    "print(\"F1:\", f1_score(y_test, y_pred, average='macro'))\n",
    "print(\"Recall:\", recall_score(y_test, y_pred, average='macro'))"
   ]
  },
  {
   "cell_type": "markdown",
   "id": "bee61b73-ef5c-429f-8110-8a73afb19b13",
   "metadata": {},
   "source": [
    "Стало лучше"
   ]
  },
  {
   "cell_type": "markdown",
   "id": "a4d857d4-15fc-456d-adb3-d0ebd1690cfa",
   "metadata": {},
   "source": [
    "### Задание 4. (0.5 доп. балла)\n",
    "\n",
    "Расскажите про свои любимые фильмы, мультики и тд.\n",
    "\n",
    "1. Время приключений\n",
    "\n",
    "2. Кислород (2008)\n",
    "\n",
    "3. Железобетон (2006)"
   ]
  },
  {
   "cell_type": "code",
   "execution_count": null,
   "id": "9ab7a7eb-eae9-4b07-bcc1-d5deca2aba00",
   "metadata": {},
   "outputs": [],
   "source": []
  }
 ],
 "metadata": {
  "kernelspec": {
   "display_name": "Python 3 (ipykernel)",
   "language": "python",
   "name": "python3"
  },
  "language_info": {
   "codemirror_mode": {
    "name": "ipython",
    "version": 3
   },
   "file_extension": ".py",
   "mimetype": "text/x-python",
   "name": "python",
   "nbconvert_exporter": "python",
   "pygments_lexer": "ipython3",
   "version": "3.11.5"
  }
 },
 "nbformat": 4,
 "nbformat_minor": 5
}
